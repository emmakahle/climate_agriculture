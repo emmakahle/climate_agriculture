{
 "cells": [
  {
   "cell_type": "markdown",
   "metadata": {},
   "source": [
    "# Analysis of Russell Ranch Century Experiment\n",
    "\n",
    "In this notebook I analyze data from the Russell Ranch Century Experiment to understand how use of irrigation, fertilizer, and compost impact crop yields.\n",
    "\n",
    "This data is publicly available at https://asi.ucdavis.edu/programs/rr/research/data and is cited as:\n",
    "\n",
    "Russell Ranch Sustainable Agriculture Facility. 2020. Cover crop biomass yields. Davis, CA: Russell Ranch Electronic Data Archives: CC-001. [Database]. https://asi.ucdavis.edu/programs/rr/research/data\n",
    "\n",
    "The meta data file is available at: https://asi.ucdavis.edu/sites/g/files/dgvnsk5751/files/inline-files/CenturyExperiment_metadata.pdf."
   ]
  },
  {
   "cell_type": "code",
   "execution_count": null,
   "metadata": {},
   "outputs": [],
   "source": [
    "# import packages\n",
    "%matplotlib inline\n",
    "import numpy as np\n",
    "import matplotlib.pyplot as plt\n",
    "import pandas as pd"
   ]
  },
  {
   "cell_type": "markdown",
   "metadata": {},
   "source": [
    "## Import data files\n",
    "\n",
    "Four data files are available for download from the above website. These files include information on:\n",
    "\n",
    "1. CROPS: plots, crops grown, and irrigation type used\n",
    "2. IRR: irrigation amounts applied\n",
    "- HARVEST: harvest measurements\n",
    "- NUT_COMP: fertilizer and compost nutrient composition\n",
    "- NUT_AMT: fertilizer and compost application amounts\n"
   ]
  },
  {
   "cell_type": "code",
   "execution_count": null,
   "metadata": {},
   "outputs": [],
   "source": [
    "# import data files\n",
    "crops = pd.read_csv(\"/Users/emma/Documents/Data_Science/climate_agriculture/Russell_Ranch/Sheet 1.csv\")\n",
    "irr = pd.read_csv(\"/Users/emma/Documents/Data_Science/climate_agriculture/Russell_Ranch/File 2.csv\")\n",
    "harvest = pd.read_csv(\"/Users/emma/Documents/Data_Science/climate_agriculture/Russell_Ranch/File 3.csv\")\n",
    "nut_comp = pd.read_csv(\"/Users/emma/Documents/Data_Science/climate_agriculture/Russell_Ranch/Sheet 4.csv\")\n",
    "nut_amt = pd.read_csv(\"/Users/emma/Documents/Data_Science/climate_agriculture/Russell_Ranch/Sheet 5.csv\")"
   ]
  },
  {
   "cell_type": "code",
   "execution_count": null,
   "metadata": {},
   "outputs": [],
   "source": [
    "# check for data type\n",
    "crops.dtypes\n",
    "irr.dtypes\n",
    "harvest.dtypes\n",
    "nut_comp.dtypes\n",
    "nut_amt.dtypes"
   ]
  },
  {
   "cell_type": "markdown",
   "metadata": {},
   "source": [
    "## Clean data frames"
   ]
  },
  {
   "cell_type": "markdown",
   "metadata": {},
   "source": [
    "Date columns in irr, harvest, and nut_amt need to be converted to datetime data type."
   ]
  },
  {
   "cell_type": "code",
   "execution_count": null,
   "metadata": {},
   "outputs": [],
   "source": [
    "irr.date = pd.to_datetime(irr.date)\n",
    "harvest.date = pd.to_datetime(harvest.date)\n",
    "nut_amt.date = pd.to_datetime(nut_amt.date)"
   ]
  },
  {
   "cell_type": "markdown",
   "metadata": {},
   "source": [
    "Nut_amt does not have year specified. Determine year from date column."
   ]
  },
  {
   "cell_type": "code",
   "execution_count": null,
   "metadata": {},
   "outputs": [],
   "source": [
    "nut_amt.year = nut_amt.date.dt.year"
   ]
  },
  {
   "cell_type": "markdown",
   "metadata": {},
   "source": [
    "There are some empty date and year columns. Looking at the data, it's clear that the years 2014 and 2015 were not entered. Making a guess for the overall year date seems like a reasonable choice, but I will leave the date column empty because choosing an exact date is more unknown. The null values in date will serve as a reminder that I made up this data."
   ]
  },
  {
   "cell_type": "code",
   "execution_count": null,
   "metadata": {
    "scrolled": false
   },
   "outputs": [],
   "source": [
    "pd.set_option('display.max_rows', 200)\n",
    "nut_amt[nut_amt.date.isnull()]   # find null values\n",
    "nut_amt[(nut_amt.fertilizer_name =='2018_pm_compost')&(nut_amt.index>2369)]   # display values of interest\n",
    "nut_amt.year[(nut_amt.index>2381)&(nut_amt.index<2394)]=2014.0   # set year to 2014\n",
    "nut_amt.year[(nut_amt.index>2393)&(nut_amt.index<2406)]=2015.0   # set year to 2015"
   ]
  },
  {
   "cell_type": "markdown",
   "metadata": {},
   "source": [
    "For ease of working with the plot_name data, let's create a plot_number variable as an integer in each of the dataframes it exists within."
   ]
  },
  {
   "cell_type": "code",
   "execution_count": null,
   "metadata": {},
   "outputs": [],
   "source": [
    "crops['plot_number'] = crops.plot_name.astype('int')\n",
    "harvest['plot_number'] = harvest.plot_name.astype('int')\n",
    "irr['plot_number'] = irr.plot_name.astype('int')\n",
    "nut_amt['plot_number'] = nut_amt.plot_name.astype('int')\n",
    "crops.columns"
   ]
  },
  {
   "cell_type": "markdown",
   "metadata": {},
   "source": [
    "Nut_amt and nut_comp dataframes are inconsistent in how the label the fertilizer names that are based on dates. Redefine using only underscores (i.e. nut_amt uses: '15-15-15-6','8/24/2006', '0-32-16'; nut_comp uses: '15_15_15_6','8_24_6', '0_32_16'). I will change nut_amt to match nut_comp."
   ]
  },
  {
   "cell_type": "code",
   "execution_count": 755,
   "metadata": {},
   "outputs": [
    {
     "data": {
      "text/plain": [
       "array(['ammonium_nitrate', 'urea_granular', 'zinc_sulfate',\n",
       "       'ammonium_sulfate', '15_15_15_6', 'triple_superphosphate',\n",
       "       'CAN_27', 'UAN32', '8_24_6', '0_32_16', 'KCl', '1994_pm_compost',\n",
       "       '1995_pm_compost', '1996_pm_compost', '1997_pm_compost',\n",
       "       '2001_pm_compost', '2002_pm_compost', '2003_pm_compost',\n",
       "       '2004_pm_compost', '2005_pm_compost', '2006_pm_compost',\n",
       "       '2007_pm_compost', '2009_pm_compost', '2018_pm_compost'],\n",
       "      dtype=object)"
      ]
     },
     "execution_count": 755,
     "metadata": {},
     "output_type": "execute_result"
    }
   ],
   "source": [
    "nut_amt.loc[nut_amt.fertilizer_name=='15-15-15-6','fertilizer_name'] = '15_15_15_6'\n",
    "nut_amt.loc[nut_amt.fertilizer_name=='8/24/2006','fertilizer_name'] = '8_24_6'\n",
    "nut_amt.loc[nut_amt.fertilizer_name=='0-32-16','fertilizer_name'] = '0_32_16'\n",
    "nut_amt.fertilizer_name.unique()"
   ]
  },
  {
   "cell_type": "markdown",
   "metadata": {},
   "source": [
    "## Explore the data by making some simple plots.\n",
    "\n",
    "\n",
    "### Harvest Yields\n",
    "I'll start with looking at harvest yields. How do yields of crops vary through time on each plot?\n"
   ]
  },
  {
   "cell_type": "code",
   "execution_count": null,
   "metadata": {
    "scrolled": false
   },
   "outputs": [],
   "source": [
    "# How do yields vary for each crop in each plot?\n",
    "\n",
    "plot_names = crops.plot_name.unique()\n",
    "for i in range(0,len(plot_names)):\n",
    "    #print(\"i=\",i)\n",
    "    fig, ax = plt.subplots(1,1, figsize=(10,6))\n",
    "    crop_names = harvest[(harvest.plot_name==plot_names[i])].crop.unique()\n",
    "    for j in range(0,len(crop_names)):\n",
    "        #print(\"j=\",j)\n",
    "        plant_parts = harvest[(harvest.plot_name==plot_names[i])&(harvest.crop==crop_names[j])].plant_part.unique()\n",
    "        for k in range(0,len(plant_parts)):\n",
    "           # print(\"k=\", k)\n",
    "            harvest_temp = harvest[(harvest.plot_name==plot_names[i])&(harvest.crop==crop_names[j])&(harvest.plant_part==plant_parts[k])]\n",
    "            ax.plot(harvest_temp.year, harvest_temp.measurement_amount,'x', label='{},{}'.format(crop_names[j],plant_parts[k]))\n",
    "            ax.legend(loc='best')\n",
    "            ax.set_title('Plot {}'.format(plot_names[i]), fontsize=24);\n",
    "            ax.set_xlabel('Year', fontsize=24)\n",
    "            ax.set_ylabel('Harvest Amount', fontsize=24)"
   ]
  },
  {
   "cell_type": "markdown",
   "metadata": {},
   "source": [
    "Note that plot 7_1 appears to not have any data. Not sure for now what is going on with this.\n",
    "\n",
    "There are no strong trends in these plots. Options:\n",
    "\n",
    "1. Could try finding linear regressions for each. \n",
    "2. Could try plotting total yield, not separated by plant type -- do I need to convert to something like percentage increase to account for the fact that different crops have different absolute values of yields?\n"
   ]
  },
  {
   "cell_type": "code",
   "execution_count": null,
   "metadata": {},
   "outputs": [],
   "source": [
    "crop_names = harvest.crop.unique()\n",
    "crop_names\n"
   ]
  },
  {
   "cell_type": "markdown",
   "metadata": {},
   "source": [
    "Create a single figure to show the crop planting plan over all fields."
   ]
  },
  {
   "cell_type": "code",
   "execution_count": null,
   "metadata": {},
   "outputs": [],
   "source": [
    "import re\n",
    "solanum_lycopersicum = re.compile(\"solanum_lycopersicum$\") # initiate regex for searching within for loop\n",
    "winter_cover_plants = re.compile(\"winter_cover_plants$\")\n",
    "maize = re.compile(\"maize$\")\n",
    "wheat = re.compile(\"wheat$\")\n",
    "\n",
    "crop_names = harvest.crop.unique()\n",
    "fig, ax = plt.subplots(1,1, figsize=(10,10))\n",
    "for i in range(0,len(crop_names)):\n",
    "    crop_year=harvest[harvest.crop==crop_names[i]].year\n",
    "    crop_field = harvest[harvest.crop==crop_names[i]].plot_name\n",
    "    if solanum_lycopersicum.search(crop_names[i]):\n",
    "        ax.plot(crop_year,crop_field,'ro',label='{}'.format(crop_names[i]))\n",
    "    elif winter_cover_plants.search(crop_names[i]):\n",
    "        ax.plot(crop_year,crop_field,'bx',label='{}'.format(crop_names[i]))\n",
    "    elif maize.search(crop_names[i]) or wheat.search(crop_names[i]):\n",
    "        ax.plot(crop_year,crop_field,'.',label='{}'.format(crop_names[i]))\n",
    "    else:\n",
    "        ax.plot(fert_year,fert_field,'gx',label='{}'.format(crop_names[i]))\n",
    "    #ax.legend(loc='best')\n",
    "    ax.legend(loc='center left', bbox_to_anchor=(1, 0.5))\n",
    "    ax.set_title('Crop Planting Plan', fontsize=24);\n",
    "    ax.set_xlabel('Year', fontsize=24)\n",
    "    ax.set_ylabel('Field ID', fontsize=24)\n",
    "    ax.tick_params(axis='y',labelsize=5)"
   ]
  },
  {
   "cell_type": "markdown",
   "metadata": {},
   "source": [
    "This figure is useful in visualizing the crop planting plan on a broad scale. About half of fields are just being used for wheat, either with or without cover crops. For those with cover crops, fields alternate as to which year supports which crop, perhaps to account for interannual variability in weather.\n",
    "\n",
    "The other half of the fields grow the full variety of crops, alternating tomatoes with either maize or wheat. Some of these fields incorporate cover crops either every year or in some years. Alfalfa is introduced in some fields in 2010. \n",
    "\n",
    "**Questions:**\n",
    "1. How does complexity of crop rotation affect yield?\n",
    "2. How does incorporation of cover crops affect yield?\n",
    "\n",
    "Wheat is the common factor among all fields. How does wheat yield vary based on these factors? And what about fertilizer use?..."
   ]
  },
  {
   "cell_type": "markdown",
   "metadata": {},
   "source": [
    "## Irrigation Use\n",
    "\n",
    "When and where was irrigation used? Create a plot showing the irrigation plan across all fields in each year. Keep in mind that the metadata states that it is difficult to quantify irrigation.\n",
    "\n",
    "First, note that not all fields have irrigation data. The fields without irrigation specified only received rainfall.\n",
    "\n",
    "The information that might turn out to be most useful is simply whether or not irrigation was used."
   ]
  },
  {
   "cell_type": "code",
   "execution_count": null,
   "metadata": {
    "scrolled": true
   },
   "outputs": [],
   "source": [
    "irr.plot_name.unique()"
   ]
  },
  {
   "cell_type": "markdown",
   "metadata": {},
   "source": [
    "Irrigation data contains multiple entries per year. Let's start by looking at the total amount of water applied to a field in a given year. To do this, for each field, group data by year and take the sum. "
   ]
  },
  {
   "cell_type": "code",
   "execution_count": null,
   "metadata": {},
   "outputs": [],
   "source": [
    "irr_byfield_byyear = irr.groupby(['plot_name','year'],as_index=False)['irrigation_amount'].sum()\n",
    "irr_byfield_byyear"
   ]
  },
  {
   "cell_type": "code",
   "execution_count": null,
   "metadata": {},
   "outputs": [],
   "source": [
    "# create figure\n",
    "fig, ax = plt.subplots(figsize=(7, 10))\n",
    "plt.scatter(irr_byfield_byyear.year,irr_byfield_byyear.plot_name,c=irr_byfield_byyear.irrigation_amount,marker='o',cmap='Blues')\n",
    "cbar = plt.colorbar()\n",
    "cbar.set_label('hectare*mm', fontsize=14)\n",
    "plt.title('Irrigation Plan by Year', fontsize=24);\n",
    "plt.xlabel('Year', fontsize=20)\n",
    "plt.ylabel('Field ID', fontsize=20);\n"
   ]
  },
  {
   "cell_type": "markdown",
   "metadata": {},
   "source": [
    "Create a new dataframe that tracks which field received irrigation and which received only rainfall."
   ]
  },
  {
   "cell_type": "code",
   "execution_count": null,
   "metadata": {},
   "outputs": [],
   "source": [
    "# initiate dataframe\n",
    "irr_bin = pd.DataFrame()\n",
    "irr_bin['plot_name']=crops.plot_name\n",
    "\n",
    "# default is rainfall\n",
    "irr_bin['irr_type']='rain'"
   ]
  },
  {
   "cell_type": "code",
   "execution_count": null,
   "metadata": {},
   "outputs": [],
   "source": [
    "# set irr_type to 'manual' if it exists in irr dataframe\n",
    "for field in irr.plot_name:\n",
    "    irr_bin.irr_type = np.where((irr_bin.plot_name==field),'manual',irr_bin.irr_type)"
   ]
  },
  {
   "cell_type": "markdown",
   "metadata": {},
   "source": [
    "### Fertlizer Use\n",
    "\n",
    "When and where was each fertilizer used? Create a plot showing what fertilizers were used in what fields in each year."
   ]
  },
  {
   "cell_type": "code",
   "execution_count": null,
   "metadata": {},
   "outputs": [],
   "source": [
    "import re\n",
    "compost = re.compile(\"compost$\") # initiate regex for searching within for loop\n",
    "ate = re.compile(\"ate$\")\n",
    "\n",
    "fertilizer_names = nut_amt.fertilizer_name.unique()\n",
    "fig, ax = plt.subplots(1,1, figsize=(10,10))\n",
    "for i in range(0,len(fertilizer_names)):\n",
    "    fert_year=nut_amt[nut_amt.fertilizer_name==fertilizer_names[i]].year\n",
    "    fert_field = nut_amt[nut_amt.fertilizer_name==fertilizer_names[i]].plot_name\n",
    "    if compost.search(fertilizer_names[i]):\n",
    "        ax.plot(fert_year,fert_field,'o',label='{}'.format(fertilizer_names[i]))\n",
    "    elif ate.search(fertilizer_names[i]):\n",
    "        ax.plot(fert_year,fert_field,'x',label='{}'.format(fertilizer_names[i]))\n",
    "    else:\n",
    "        ax.plot(fert_year,fert_field,'.',label='{}'.format(fertilizer_names[i]))\n",
    "    #ax.legend(loc='best')\n",
    "    ax.legend(loc='center left', bbox_to_anchor=(1, 0.5))\n",
    "    ax.set_title('Fertilizer Plan', fontsize=24);\n",
    "    ax.set_xlabel('Year', fontsize=24)\n",
    "    ax.set_ylabel('Field ID', fontsize=24)\n",
    "    ax.tick_params(axis='y',labelsize=8)\n",
    "    #plt.yticks([]) # hide field IDs on axis because they are so small and don't really matter"
   ]
  },
  {
   "cell_type": "markdown",
   "metadata": {},
   "source": [
    "There is a lot going on in the above plot, but the overall pattern of colors and shapes gives a sense of the fertilizer strategy. Six fields at the top of plot received compost as fertilizer. The compost varied by year based on what was available. In some years, some fields received no fertilizer and others received multiple kinds. \n",
    "\n",
    "This is useful, like the Crop Planting figure above, in visualizing the experiments. However, the y-axes do not match between the two figures. Plotting numerically by plot_number rather than plot_name is problematic because it erases the patterns that pop out in each figure. To combine information from the two plans, I will need different strategies.\n",
    "\n",
    "Ideas:\n",
    "1. Focus on just the fields using compost and see how how nutrient value of compost correlates with crop yield\n",
    "2. Aggregate yield data on fields with same/similar fertilizer protocol and compare among protocols\n",
    "3. Can I make similar plot to visualize the crop plan?"
   ]
  },
  {
   "cell_type": "markdown",
   "metadata": {},
   "source": [
    "### Impact of fertilizer\n",
    "\n",
    "Next I'll take a look at the relationship between nutrient inputs and crop yields. How does the crop yield in each plot in each year compare to the nutrient input?\n",
    "\n",
    "Note that in the nut_amt dataframe, plots are sometimes divided in half to 'E' and 'W' sides. However, the harvest dataframe only includes 'composite' harvest data. As such, I will take the average value for 'E' and 'W' where they are split to represent a 'composite' value. \n",
    "\n",
    "There are also multiple applications of fertilizer per year, sometime of different types.\n",
    "\n",
    "The first thing to do is to associate the amount of a nutrient that is added with each fertilizer application. Then I can combine applications into years and fields. The nutrients that are measured for most (all?) fertilizer types are N, P, K, S, Ca, Zn, Mg. "
   ]
  },
  {
   "cell_type": "code",
   "execution_count": 816,
   "metadata": {
    "scrolled": false
   },
   "outputs": [],
   "source": [
    "nut_amt.head()\n",
    "tracker = 0\n",
    "nut_amt['N_amt'] = np.nan\n",
    "for fert in nut_amt.fertilizer_name.unique():\n",
    "    tracker = tracker +1\n",
    "    # calculate percent of nitrogen in each fertilizer type\n",
    "    if compost.search(fert):\n",
    "        # some composts don't have N defined, so just say it's the same as the 2001 compost\n",
    "        if fert == '1994_pm_compost' or fert == '1995_pm_compost' or fert == '1996_pm_compost' or fert == '1997_pm_compost' or fert == '2005_pm_compost' or fert == '2006_pm_compost' or fert == '2018_pm_compost':\n",
    "            fert = '2001_pm_compost'\n",
    "        N_pct = nut_comp[(nut_comp.fertilizer_name==fert)&(nut_comp.soil_amendment_name=='Total N')].soil_amendment_amount\n",
    "    else:\n",
    "        N_pct = nut_comp[(nut_comp.fertilizer_name==fert)&(nut_comp.soil_amendment_name=='N')].soil_amendment_amount\n",
    "    fert_index = nut_amt[nut_amt['fertilizer_name']==fert].index # where to put the calculation\n",
    "    fert_amount = nut_amt[nut_amt.fertilizer_name==fert].fertilization_amount.values*N_pct.values/100\n",
    "    # assign amount of nutrient applied in each fertilizer application\n",
    "    nut_amt.loc[fert_index,'N_amt'] = fert_amount\n",
    "    "
   ]
  },
  {
   "cell_type": "code",
   "execution_count": null,
   "metadata": {},
   "outputs": [],
   "source": [
    "nut_amt.groupby(['plot_name','plot_side']).describe()"
   ]
  },
  {
   "cell_type": "code",
   "execution_count": null,
   "metadata": {},
   "outputs": [],
   "source": [
    "nut_amt[(nut_amt.plot_name=='1_1')&(nut_amt.plot_side=='E')]"
   ]
  },
  {
   "cell_type": "markdown",
   "metadata": {},
   "source": [
    "Also note that the units of compost are 't/ha', while the units of chemical fertilizers are 'kg/ha'. I should not need to combine fields with compost and chemical ammendments, so this should not be an issue for now.\n",
    "\n",
    "Let's start with the amount of total carbon applied to each field. The nut_comp dataframe contains information about the percentage of total carbon in the compost mixture from each year."
   ]
  },
  {
   "cell_type": "code",
   "execution_count": null,
   "metadata": {},
   "outputs": [],
   "source": [
    "nut_amt[nut_amt.fertilizer_name=='KCl']"
   ]
  },
  {
   "cell_type": "code",
   "execution_count": null,
   "metadata": {},
   "outputs": [],
   "source": [
    "nut_year_plot = [nut_amt[nut_amt.fertilizer_name=='2001_pm_compost'].year, nut_amt[nut_amt.fertilizer_name=='2001_pm_compost'].plot_name]\n",
    "nut_year_plot"
   ]
  },
  {
   "cell_type": "code",
   "execution_count": null,
   "metadata": {},
   "outputs": [],
   "source": []
  }
 ],
 "metadata": {
  "kernelspec": {
   "display_name": "Python 3",
   "language": "python",
   "name": "python3"
  },
  "language_info": {
   "codemirror_mode": {
    "name": "ipython",
    "version": 3
   },
   "file_extension": ".py",
   "mimetype": "text/x-python",
   "name": "python",
   "nbconvert_exporter": "python",
   "pygments_lexer": "ipython3",
   "version": "3.7.4"
  }
 },
 "nbformat": 4,
 "nbformat_minor": 2
}
