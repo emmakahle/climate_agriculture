{
 "cells": [
  {
   "cell_type": "markdown",
   "metadata": {},
   "source": [
    "# Analysis of Russell Ranch Century Experiment\n",
    "\n",
    "In this project I analyze data from the Russell Ranch Century Experiment to understand how use of irrigation, fertilizer, and compost impact crop yields.\n",
    "\n",
    "This data is publicly available at https://asi.ucdavis.edu/programs/rr/research/data and is cited as:\n",
    "\n",
    "Russell Ranch Sustainable Agriculture Facility. 1994-2014. Cover crop biomass yields. Davis, CA: Russell Ranch Electronic Data Archives: CC-001. [Database]. https://asi.ucdavis.edu/programs/rr/research/data"
   ]
  },
  {
   "cell_type": "code",
   "execution_count": null,
   "metadata": {},
   "outputs": [],
   "source": [
    "\n"
   ]
  },
  {
   "cell_type": "code",
   "execution_count": null,
   "metadata": {},
   "outputs": [],
   "source": []
  }
 ],
 "metadata": {
  "kernelspec": {
   "display_name": "Python 3",
   "language": "python",
   "name": "python3"
  },
  "language_info": {
   "codemirror_mode": {
    "name": "ipython",
    "version": 3
   },
   "file_extension": ".py",
   "mimetype": "text/x-python",
   "name": "python",
   "nbconvert_exporter": "python",
   "pygments_lexer": "ipython3",
   "version": "3.7.4"
  }
 },
 "nbformat": 4,
 "nbformat_minor": 2
}
