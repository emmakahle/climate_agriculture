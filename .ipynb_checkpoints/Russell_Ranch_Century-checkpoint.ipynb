{
 "cells": [
  {
   "cell_type": "markdown",
   "metadata": {},
   "source": [
    "# Analysis of Russell Ranch Century Experiment\n",
    "\n",
    "In this project I analyze data from the Russell Ranch Century Experiment to understand how use of irrigation, fertilizer, and compost impact crop yields.\n",
    "\n",
    "This data is publicly available at https://asi.ucdavis.edu/programs/rr/research/data and is cited as:\n",
    "\n",
    "Russell Ranch Sustainable Agriculture Facility. 1994-2014. Cover crop biomass yields. Davis, CA: Russell Ranch Electronic Data Archives: CC-001. [Database]. https://asi.ucdavis.edu/programs/rr/research/data"
   ]
  },
  {
   "cell_type": "code",
   "execution_count": 2,
   "metadata": {},
   "outputs": [],
   "source": [
    "# import packages\n",
    "%matplotlib inline\n",
    "import numpy as np\n",
    "import matplotlib.pyplot as plt\n",
    "import pandas as pd"
   ]
  },
  {
   "cell_type": "markdown",
   "metadata": {},
   "source": [
    "## Import data files\n",
    "\n",
    "Four data files are available for download from the above website. These files include information on:\n",
    "\n",
    "1. CROPS: plots, crops grown, and irrigation type used\n",
    "2. IRR: irrigation amounts applied\n",
    "- HARVEST: harvest measurements\n",
    "- NUT_COMP: fertilizer and compost nutrient composition\n",
    "- NUT_AMT: fertilizer and compost application amounts\n"
   ]
  },
  {
   "cell_type": "code",
   "execution_count": null,
   "metadata": {},
   "outputs": [],
   "source": [
    "crops = pd.read_csv(\"'/Users/emma/Documents/Data_Science/climate_agriculture/Russell_Ranch'\")"
   ]
  },
  {
   "cell_type": "code",
   "execution_count": 5,
   "metadata": {},
   "outputs": [
    {
     "name": "stdout",
     "output_type": "stream",
     "text": [
      "/Users/emma/Documents/Data_Science/climate_agriculture/Russell_Ranch\n"
     ]
    }
   ],
   "source": [
    "cd Russell_Ranch/"
   ]
  },
  {
   "cell_type": "code",
   "execution_count": null,
   "metadata": {},
   "outputs": [],
   "source": []
  }
 ],
 "metadata": {
  "kernelspec": {
   "display_name": "Python 3",
   "language": "python",
   "name": "python3"
  },
  "language_info": {
   "codemirror_mode": {
    "name": "ipython",
    "version": 3
   },
   "file_extension": ".py",
   "mimetype": "text/x-python",
   "name": "python",
   "nbconvert_exporter": "python",
   "pygments_lexer": "ipython3",
   "version": "3.7.4"
  }
 },
 "nbformat": 4,
 "nbformat_minor": 2
}
